{
 "cells": [
  {
   "cell_type": "markdown",
   "id": "14dfc199",
   "metadata": {},
   "source": [
    "# Project Python : Predicts a book's rating\n",
    "\n",
    "The project consists of predicting the coast of a book through a dataset. \n",
    "For this, we must use the \"machine learning\" system. \n",
    "This makes it possible to apply predictive analysis algorithms to different types of data in order to predict the future."
   ]
  },
  {
   "cell_type": "markdown",
   "id": "b84047dc",
   "metadata": {},
   "source": [
    "## Download"
   ]
  },
  {
   "cell_type": "markdown",
   "id": "8f7fa042",
   "metadata": {},
   "source": [
    "To download the entire project, you can either download the zip file from github or either use the command `git clone https://github.com/MarjorieMe/ProjectPythonRatingBooks.git`."
   ]
  },
  {
   "cell_type": "markdown",
   "id": "48bcd8db",
   "metadata": {},
   "source": [
    "## Requirements\n",
    "\n"
   ]
  },
  {
   "cell_type": "markdown",
   "id": "5d602d34",
   "metadata": {},
   "source": [
    "1. First of all, you need to create a new virtual environment in Anaconda. Then, you can run Jupyter from this new environment. "
   ]
  },
  {
   "cell_type": "markdown",
   "id": "063a782b",
   "metadata": {},
   "source": [
    "2. Install all required dependencies with the requirements.txt file.  "
   ]
  },
  {
   "cell_type": "markdown",
   "id": "ee4bf0d0",
   "metadata": {},
   "source": [
    "`pip install -r requirements.txt`"
   ]
  },
  {
   "cell_type": "markdown",
   "id": "09ca4892",
   "metadata": {},
   "source": [
    "## Running project "
   ]
  },
  {
   "cell_type": "markdown",
   "id": "62596679",
   "metadata": {},
   "source": [
    "1. You must open the file named \"Projet_Python_Rating_Book_MM.ipynb\" from Jupyter."
   ]
  },
  {
   "cell_type": "markdown",
   "id": "2ed974a2",
   "metadata": {},
   "source": [
    "2. You must click on the button `Run` or click on the button `Kernel` > `Restart and Run All`. "
   ]
  }
 ],
 "metadata": {
  "kernelspec": {
   "display_name": "Python 3 (ipykernel)",
   "language": "python",
   "name": "python3"
  },
  "language_info": {
   "codemirror_mode": {
    "name": "ipython",
    "version": 3
   },
   "file_extension": ".py",
   "mimetype": "text/x-python",
   "name": "python",
   "nbconvert_exporter": "python",
   "pygments_lexer": "ipython3",
   "version": "3.8.13"
  }
 },
 "nbformat": 4,
 "nbformat_minor": 5
}
